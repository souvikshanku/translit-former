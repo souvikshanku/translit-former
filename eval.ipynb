{
 "cells": [
  {
   "cell_type": "code",
   "execution_count": 1,
   "metadata": {},
   "outputs": [],
   "source": [
    "import json\n",
    "\n",
    "import nltk\n",
    "import pandas as pd\n",
    "import torch\n",
    "\n",
    "from model import LM\n",
    "from utils import transliterate"
   ]
  },
  {
   "cell_type": "code",
   "execution_count": 2,
   "metadata": {
    "trusted": true
   },
   "outputs": [
    {
     "name": "stdout",
     "output_type": "stream",
     "text": [
      "Epoch: 10 0.18569786152168014\n",
      "Epoch: 20 0.1800420610041972\n",
      "Epoch: 30 0.16699999066413598\n",
      "Epoch: 40 0.1632056169372563\n",
      "Epoch: 50 0.16709169230229556\n",
      "Epoch: 60 0.16791787065988636\n",
      "Epoch: 70 0.16544667335287308\n",
      "Epoch: 80 0.16693759064544186\n",
      "Epoch: 90 0.16496630974389742\n",
      "Epoch: 100 0.16702055291807172\n"
     ]
    }
   ],
   "source": [
    "device = torch.device(\"cuda:0\" if torch.cuda.is_available() else \"cpu\")\n",
    "tokens = json.load(open(\"tokenizer.json\", \"r\"))\n",
    "\n",
    "\n",
    "lm = LM()\n",
    "\n",
    "test = pd.read_csv(\"data/test.csv\")\n",
    "\n",
    "epochs = range(10, 110, 10)\n",
    "\n",
    "for epoch in epochs:\n",
    "    checkpoint = torch.load(\n",
    "        f\"checkpoints/epoch_{epoch}.pt\",\n",
    "        weights_only=True,\n",
    "        map_location=device\n",
    "    )\n",
    "\n",
    "    lm.load_state_dict(checkpoint['lm_state_dict'])\n",
    "    lm.eval()\n",
    "    lm.to(device)\n",
    "\n",
    "    avg_dist = 0\n",
    "\n",
    "    for bn, en in test.values:\n",
    "        translit = transliterate(bn, lm, tokens)\n",
    "\n",
    "        dist = nltk.edit_distance(en, translit) / len(en)\n",
    "        avg_dist += dist\n",
    "\n",
    "    print(\"Epoch:\", epoch, avg_dist / len(test))"
   ]
  },
  {
   "cell_type": "code",
   "execution_count": 3,
   "metadata": {
    "trusted": true
   },
   "outputs": [
    {
     "name": "stdout",
     "output_type": "stream",
     "text": [
      "এমন emon\n",
      "দিনে dine\n",
      "বিনা bina\n",
      "কাজের kajer\n",
      "অবকাশে abokashe\n",
      "বিনয়ভূষণ binoybhushan\n",
      "তাহার tahar\n",
      "বাসার basar\n",
      "দোতলার dotolar\n",
      "বারান্দায় baranday\n",
      "একলা ekla\n",
      "দাঁড়াইয়া daraiya\n",
      "রাস্তায় rastay\n",
      "জনতার jontar\n",
      "চলাচল cholachol\n",
      "দেখিতেছিল। dekhitechilo\n"
     ]
    }
   ],
   "source": [
    "best_epoch = 40\n",
    "checkpoint = torch.load(\n",
    "    f\"checkpoints/epoch_{best_epoch}.pt\",\n",
    "    weights_only=True,\n",
    "    map_location=device\n",
    ")\n",
    "\n",
    "lm.load_state_dict(checkpoint['lm_state_dict'])\n",
    "lm.eval()\n",
    "\n",
    "text = \"এমন দিনে বিনা কাজের অবকাশে বিনয়ভূষণ তাহার বাসার দোতলার বারান্দায় একলা দাঁড়াইয়া রাস্তায় জনতার চলাচল দেখিতেছিল।\"\n",
    "\n",
    "for t in text.split(\" \"):\n",
    "    print(t, transliterate(t, lm, tokens))"
   ]
  }
 ],
 "metadata": {
  "kernelspec": {
   "display_name": ".pytorch",
   "language": "python",
   "name": "python3"
  },
  "language_info": {
   "codemirror_mode": {
    "name": "ipython",
    "version": 3
   },
   "file_extension": ".py",
   "mimetype": "text/x-python",
   "name": "python",
   "nbconvert_exporter": "python",
   "pygments_lexer": "ipython3",
   "version": "3.10.12"
  }
 },
 "nbformat": 4,
 "nbformat_minor": 4
}
